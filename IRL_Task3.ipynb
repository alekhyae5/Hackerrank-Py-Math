{
  "nbformat": 4,
  "nbformat_minor": 0,
  "metadata": {
    "colab": {
      "provenance": []
    },
    "kernelspec": {
      "name": "python3",
      "display_name": "Python 3"
    },
    "language_info": {
      "name": "python"
    }
  },
  "cells": [
    {
      "cell_type": "code",
      "execution_count": null,
      "metadata": {
        "id": "FDG3Jq1hT7qs"
      },
      "outputs": [],
      "source": [
        "import cmath\n",
        "z=complex(input())\n",
        "print(abs(z))\n",
        "print(cmath.phase(z))"
      ]
    },
    {
      "cell_type": "code",
      "source": [
        "from math import atan,degrees\n",
        "ab=int(input())\n",
        "bc=int(input())\n",
        "angleC = atan(ab/bc)\n",
        "print((round(degrees(angleC))),chr(176),sep='')"
      ],
      "metadata": {
        "id": "c1RDbDysVgsx"
      },
      "execution_count": null,
      "outputs": []
    },
    {
      "cell_type": "code",
      "source": [
        "for i in range(1,int(input())+1): #More than 2 lines will result in 0 score. Do not leave a blank line also\n",
        "    print(pow((10**i-1)//9,2))"
      ],
      "metadata": {
        "id": "OQTR_C6_VlWS"
      },
      "execution_count": null,
      "outputs": []
    },
    {
      "cell_type": "code",
      "source": [
        "a=int(input())\n",
        "b=int(input())\n",
        "print(a//b)\n",
        "print(a%b)\n",
        "print(divmod(a,b))"
      ],
      "metadata": {
        "id": "-XBdjf5EVqcy"
      },
      "execution_count": null,
      "outputs": []
    },
    {
      "cell_type": "code",
      "source": [
        "a=int(input())\n",
        "b=int(input())\n",
        "m=int(input())\n",
        "print(pow(a,b))\n",
        "print(pow(a,b,m))"
      ],
      "metadata": {
        "id": "xNicWkW7V27R"
      },
      "execution_count": null,
      "outputs": []
    },
    {
      "cell_type": "code",
      "source": [
        "a=int(input())\n",
        "b=int(input())\n",
        "c=int(input())\n",
        "d=int(input())\n",
        "res=pow(a,b)+pow(c,d)\n",
        "print(res)"
      ],
      "metadata": {
        "id": "oEln7WLoV3uE"
      },
      "execution_count": null,
      "outputs": []
    },
    {
      "cell_type": "code",
      "source": [
        "for i in range(1,int(input())): #More than 2 lines will result in 0 score. Do not leave a blank line also\n",
        "    print(i*(((10**i)-1)//9))"
      ],
      "metadata": {
        "id": "LU-4wHk4V_Hi"
      },
      "execution_count": null,
      "outputs": []
    }
  ]
}